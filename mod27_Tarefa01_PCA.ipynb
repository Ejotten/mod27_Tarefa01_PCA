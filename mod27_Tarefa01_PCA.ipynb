{
 "cells": [
  {
   "cell_type": "markdown",
   "metadata": {},
   "source": [
    "![Cabec%CC%A7alho_notebook.png](cabecalho_notebook.png)"
   ]
  },
  {
   "cell_type": "markdown",
   "metadata": {},
   "source": [
    "# PCA - Tarefa 01: *HAR* com PCA\n",
    "\n",
    "Vamos trabalhar com a base da demonstração feita em aula, mas vamos explorar um pouco melhor como é o desempenho da árvore variando o número de componentes principais."
   ]
  },
  {
   "cell_type": "code",
   "execution_count": 9,
   "metadata": {},
   "outputs": [],
   "source": [
    "import pandas as pd\n",
    "\n",
    "from sklearn.tree import DecisionTreeClassifier\n",
    "\n",
    "from sklearn.decomposition import PCA\n",
    "from sklearn.metrics import accuracy_score\n",
    "from sklearn.model_selection import cross_val_score\n",
    "from sklearn.model_selection import GridSearchCV\n",
    "from sklearn.model_selection import train_test_split\n",
    "\n",
    "X_train = pd.read_csv('./X_train.csv')\n",
    "X_test = pd.read_csv('./X_test.csv')\n",
    "y_train = pd.read_csv('./y_train.txt', header=None, delim_whitespace=True)\n",
    "y_test = pd.read_csv('./y_test.txt', header=None, delim_whitespace=True)"
   ]
  },
  {
   "cell_type": "code",
   "execution_count": 10,
   "metadata": {},
   "outputs": [],
   "source": [
    "X_train.set_index(['subject', X_train.index], inplace=True)\n",
    "X_test.set_index(['subject', X_test.index], inplace=True)"
   ]
  },
  {
   "cell_type": "markdown",
   "metadata": {},
   "source": [
    "## Árvore de decisão\n",
    "\n",
    "Rode uma árvore de decisão com todas as variáveis, utilizando o ```ccp_alpha=0.001```. Avalie a acurácia nas bases de treinamento e teste. Avalie o tempo de processamento."
   ]
  },
  {
   "cell_type": "code",
   "execution_count": 11,
   "metadata": {},
   "outputs": [],
   "source": [
    "X_train, X_valid, y_train, y_valid = train_test_split(X_train, y_train)"
   ]
  },
  {
   "cell_type": "code",
   "execution_count": 14,
   "metadata": {},
   "outputs": [
    {
     "name": "stdout",
     "output_type": "stream",
     "text": [
      "Acurácia da melhor árvore na base de treino:    97.8\n",
      "Acurácia da melhor árvore na base de validação: 85.2\n",
      "Acurácia da melhor árvore na base de teste:     85.2\n",
      "CPU times: total: 2.28 s\n",
      "Wall time: 2.28 s\n"
     ]
    }
   ],
   "source": [
    "%%time\n",
    "\n",
    "clf = DecisionTreeClassifier(random_state=1234, ccp_alpha=0.001).fit(X_train, y_train)\n",
    "\n",
    "# vendo o score da arvore\n",
    "acc_train = clf.score(X_train, y_train)\n",
    "acc_valid = clf.score(X_valid, y_valid)\n",
    "acc_teste = clf.score(X_test, y_test)\n",
    "\n",
    "print(f'Acurácia da melhor árvore na base de treino:    {acc_train*100:.1f}')\n",
    "print(f'Acurácia da melhor árvore na base de validação: {acc_teste*100:.1f}')\n",
    "print(f'Acurácia da melhor árvore na base de teste:     {acc_teste*100:.1f}')\n"
   ]
  },
  {
   "cell_type": "markdown",
   "metadata": {},
   "source": [
    "## Árvore com PCA\n",
    "\n",
    "Faça uma análise de componemtes principais das variáveis originais. Utilize apenas uma componente. Faça uma árvore de decisão com esta componente como variável explicativa.\n",
    "\n",
    "- Avalie a acurácia nas bases de treinamento e teste\n",
    "- Avalie o tempo de processamento"
   ]
  },
  {
   "cell_type": "code",
   "execution_count": 21,
   "metadata": {},
   "outputs": [
    {
     "name": "stdout",
     "output_type": "stream",
     "text": [
      "CPU times: total: 734 ms\n",
      "Wall time: 425 ms\n"
     ]
    }
   ],
   "source": [
    "%%time\n",
    "# numero de componentes desejadas\n",
    "n=1\n",
    "#avaliação das componenetes\n",
    "prcomp = PCA(n_components=n).fit(X_train)\n",
    "\n",
    "pc_treino = prcomp.transform(X_train)\n",
    "pc_valida = prcomp.transform(X_valid)\n",
    "pc_teste  = prcomp.transform(X_test)\n"
   ]
  },
  {
   "cell_type": "code",
   "execution_count": 22,
   "metadata": {},
   "outputs": [
    {
     "data": {
      "text/html": [
       "<div>\n",
       "<style scoped>\n",
       "    .dataframe tbody tr th:only-of-type {\n",
       "        vertical-align: middle;\n",
       "    }\n",
       "\n",
       "    .dataframe tbody tr th {\n",
       "        vertical-align: top;\n",
       "    }\n",
       "\n",
       "    .dataframe thead th {\n",
       "        text-align: right;\n",
       "    }\n",
       "</style>\n",
       "<table border=\"1\" class=\"dataframe\">\n",
       "  <thead>\n",
       "    <tr style=\"text-align: right;\">\n",
       "      <th></th>\n",
       "      <th>cp1</th>\n",
       "    </tr>\n",
       "  </thead>\n",
       "  <tbody>\n",
       "    <tr>\n",
       "      <th>0</th>\n",
       "      <td>75.570739</td>\n",
       "    </tr>\n",
       "    <tr>\n",
       "      <th>1</th>\n",
       "      <td>-2516.426289</td>\n",
       "    </tr>\n",
       "    <tr>\n",
       "      <th>2</th>\n",
       "      <td>-2986.429176</td>\n",
       "    </tr>\n",
       "    <tr>\n",
       "      <th>3</th>\n",
       "      <td>3004.572525</td>\n",
       "    </tr>\n",
       "    <tr>\n",
       "      <th>4</th>\n",
       "      <td>1991.573079</td>\n",
       "    </tr>\n",
       "  </tbody>\n",
       "</table>\n",
       "</div>"
      ],
      "text/plain": [
       "           cp1\n",
       "0    75.570739\n",
       "1 -2516.426289\n",
       "2 -2986.429176\n",
       "3  3004.572525\n",
       "4  1991.573079"
      ]
     },
     "execution_count": 22,
     "metadata": {},
     "output_type": "execute_result"
    }
   ],
   "source": [
    "# separando em df- para treino teste e validação\n",
    "colunas = ['cp'+str(x+1) for x in list(range(n))]\n",
    "\n",
    "pc_train = pd.DataFrame(pc_treino[:,:n], columns = colunas)\n",
    "pc_valid = pd.DataFrame(pc_valida[:,:n], columns = colunas)\n",
    "pc_test  = pd.DataFrame( pc_teste[:,:n], columns = colunas)\n",
    "\n",
    "pc_train.head()"
   ]
  },
  {
   "cell_type": "code",
   "execution_count": 23,
   "metadata": {},
   "outputs": [
    {
     "name": "stdout",
     "output_type": "stream",
     "text": [
      "Acurácia da melhor árvore na base de treino:    98.6\n",
      "Acurácia da melhor árvore na base de validação: 13.5\n",
      "Acurácia da melhor árvore na base de teste:     13.5\n",
      "CPU times: total: 62.5 ms\n",
      "Wall time: 67.1 ms\n"
     ]
    }
   ],
   "source": [
    "%%time\n",
    "\n",
    "clf_pca = DecisionTreeClassifier(random_state=1234, ccp_alpha=0.001).fit(pc_train, y_train)\n",
    "\n",
    "# vendo o score da arvore\n",
    "acc_train = clf_pca.score(pc_train, y_train)\n",
    "acc_valid = clf_pca.score(pc_valid, y_valid)\n",
    "acc_teste = clf_pca.score(pc_test, y_test)\n",
    "\n",
    "print(f'Acurácia da melhor árvore na base de treino:    {acc_train*100:.1f}')\n",
    "print(f'Acurácia da melhor árvore na base de validação: {acc_teste*100:.1f}')\n",
    "print(f'Acurácia da melhor árvore na base de teste:     {acc_teste*100:.1f}')"
   ]
  },
  {
   "cell_type": "markdown",
   "metadata": {},
   "source": [
    "## Testando o número de componentes\n",
    "\n",
    "Com base no código acima, teste a árvore de classificação com pelo menos as seguintes possibilidades de quantidades de componentes: ```[1, 2, 5, 10, 50]```. Avalie para cada uma delas:\n",
    "\n",
    "- Acurácia nas bases de treino e teste\n",
    "- Tempo de processamento\n"
   ]
  },
  {
   "cell_type": "code",
   "execution_count": 35,
   "metadata": {},
   "outputs": [],
   "source": [
    "from time import time"
   ]
  },
  {
   "cell_type": "code",
   "execution_count": 41,
   "metadata": {},
   "outputs": [
    {
     "name": "stdout",
     "output_type": "stream",
     "text": [
      "Resultados na arvore com compoenetes:    1\n",
      "O tempo total de execução foi de 0.50 segundos.\n",
      "Acurácia da melhor árvore na base de treino:    98.6\n",
      "Acurácia da melhor árvore na base de validação: 13.5\n",
      "Acurácia da melhor árvore na base de teste:     13.5\n",
      "Resultados na arvore com compoenetes:    2\n",
      "O tempo total de execução foi de 0.51 segundos.\n",
      "Acurácia da melhor árvore na base de treino:    85.6\n",
      "Acurácia da melhor árvore na base de validação: 37.6\n",
      "Acurácia da melhor árvore na base de teste:     37.6\n",
      "Resultados na arvore com compoenetes:    5\n",
      "O tempo total de execução foi de 0.65 segundos.\n",
      "Acurácia da melhor árvore na base de treino:    88.1\n",
      "Acurácia da melhor árvore na base de validação: 72.9\n",
      "Acurácia da melhor árvore na base de teste:     72.9\n",
      "Resultados na arvore com compoenetes:    10\n",
      "O tempo total de execução foi de 0.81 segundos.\n",
      "Acurácia da melhor árvore na base de treino:    90.2\n",
      "Acurácia da melhor árvore na base de validação: 80.7\n",
      "Acurácia da melhor árvore na base de teste:     80.7\n",
      "Resultados na arvore com compoenetes:    50\n",
      "O tempo total de execução foi de 2.52 segundos.\n",
      "Acurácia da melhor árvore na base de treino:    93.0\n",
      "Acurácia da melhor árvore na base de validação: 83.7\n",
      "Acurácia da melhor árvore na base de teste:     83.7\n",
      "CPU times: total: 18.3 s\n",
      "Wall time: 4.99 s\n"
     ]
    }
   ],
   "source": [
    " %%time\n",
    "#numero de componenetes\n",
    "n = [1, 2, 5, 10, 50]\n",
    "#avaliação das componenetes\n",
    "for i in n:\n",
    "    start_time = time()\n",
    "    prcomp = PCA(n_components=i).fit(X_train)\n",
    "        \n",
    "    pc_treino = prcomp.transform(X_train)\n",
    "    pc_valida = prcomp.transform(X_valid)\n",
    "    pc_teste  = prcomp.transform(X_test)\n",
    "    \n",
    "    colunas = ['cp'+str(i+1) for x in list(range(i))]\n",
    "\n",
    "    pc_train = pd.DataFrame(pc_treino[:,:i], columns = colunas)\n",
    "    pc_valid = pd.DataFrame(pc_valida[:,:i], columns = colunas)\n",
    "    pc_test  = pd.DataFrame( pc_teste[:,:i], columns = colunas) \n",
    "    \n",
    "    #treinando a arvore\n",
    "    clf_pca = DecisionTreeClassifier(random_state=1234, ccp_alpha=0.001).fit(pc_train, y_train)\n",
    "    # vendo o score da arvore\n",
    "    acc_train = clf_pca.score(pc_train, y_train)\n",
    "    acc_valid = clf_pca.score(pc_valid, y_valid)\n",
    "    acc_teste = clf_pca.score(pc_test, y_test)\n",
    "    end_time = time()\n",
    "    total_time = end_time - start_time\n",
    "    \n",
    "    print(f'Resultados na arvore com compoenetes:    {i}')\n",
    "    print(f\"O tempo total de execução foi de {total_time:.2f} segundos.\")\n",
    "    print(f'Acurácia da melhor árvore na base de treino:    {acc_train*100:.1f}')\n",
    "    print(f'Acurácia da melhor árvore na base de validação: {acc_teste*100:.1f}')\n",
    "    print(f'Acurácia da melhor árvore na base de teste:     {acc_teste*100:.1f}')"
   ]
  },
  {
   "cell_type": "markdown",
   "metadata": {},
   "source": [
    "## Conclua\n",
    "\n",
    "- O que aconteceu com a acurácia?\n",
    "- O que aconteceu com o tempo de processamento?"
   ]
  },
  {
   "cell_type": "markdown",
   "metadata": {},
   "source": [
    "A acurácia aumenta até um limite proximo ao usar o df todo, porém isso custou mais processamento, tendo uma queda de performance. "
   ]
  },
  {
   "cell_type": "code",
   "execution_count": null,
   "metadata": {},
   "outputs": [],
   "source": []
  }
 ],
 "metadata": {
  "kernelspec": {
   "display_name": "Python 3 (ipykernel)",
   "language": "python",
   "name": "python3"
  },
  "language_info": {
   "codemirror_mode": {
    "name": "ipython",
    "version": 3
   },
   "file_extension": ".py",
   "mimetype": "text/x-python",
   "name": "python",
   "nbconvert_exporter": "python",
   "pygments_lexer": "ipython3",
   "version": "3.9.19"
  },
  "toc": {
   "base_numbering": 1,
   "nav_menu": {},
   "number_sections": true,
   "sideBar": true,
   "skip_h1_title": true,
   "title_cell": "Índice",
   "title_sidebar": "Conteúdo",
   "toc_cell": false,
   "toc_position": {},
   "toc_section_display": true,
   "toc_window_display": false
  },
  "varInspector": {
   "cols": {
    "lenName": 16,
    "lenType": 16,
    "lenVar": 40
   },
   "kernels_config": {
    "python": {
     "delete_cmd_postfix": "",
     "delete_cmd_prefix": "del ",
     "library": "var_list.py",
     "varRefreshCmd": "print(var_dic_list())"
    },
    "r": {
     "delete_cmd_postfix": ") ",
     "delete_cmd_prefix": "rm(",
     "library": "var_list.r",
     "varRefreshCmd": "cat(var_dic_list()) "
    }
   },
   "types_to_exclude": [
    "module",
    "function",
    "builtin_function_or_method",
    "instance",
    "_Feature"
   ],
   "window_display": false
  }
 },
 "nbformat": 4,
 "nbformat_minor": 4
}
